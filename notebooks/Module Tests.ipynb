{
 "cells": [
  {
   "cell_type": "markdown",
   "metadata": {},
   "source": [
    "# Module Tests\n",
    "\n",
    "This jupyter notebook serves to tests and shows the different module of the NQS library with Tensorflow 2."
   ]
  },
  {
   "cell_type": "markdown",
   "metadata": {},
   "source": [
    "## Import and Environment Setup"
   ]
  },
  {
   "cell_type": "code",
   "execution_count": 1,
   "metadata": {},
   "outputs": [],
   "source": [
    "import sys\n",
    "sys.path.append(r'../')\n",
    "\n",
    "import numpy as np\n",
    "import tensorflow as tf\n",
    "import matplotlib.pyplot as plt\n",
    "\n",
    "## Set the same seed\n",
    "np.random.seed(42)\n",
    "tf.random.set_seed(42)\n",
    "\n",
    "%load_ext autoreload\n",
    "%autoreload 2\n",
    "%matplotlib inline"
   ]
  },
  {
   "cell_type": "code",
   "execution_count": 2,
   "metadata": {},
   "outputs": [],
   "source": [
    "## Set the GPU devices here, -1 will use CPU\n",
    "import os\n",
    "os.environ[\"CUDA_VISIBLE_DEVICES\"]=\"-1\"\n",
    "\n",
    "physical_devices = tf.config.list_physical_devices('GPU')\n",
    "try:\n",
    "  tf.config.experimental.set_memory_growth(physical_devices[0], True)\n",
    "except:\n",
    "  pass"
   ]
  },
  {
   "cell_type": "markdown",
   "metadata": {},
   "source": [
    "## Graph"
   ]
  },
  {
   "cell_type": "markdown",
   "metadata": {},
   "source": [
    "### Hypercube"
   ]
  },
  {
   "cell_type": "code",
   "execution_count": 3,
   "metadata": {},
   "outputs": [
    {
     "name": "stdout",
     "output_type": "stream",
     "text": [
      "Nearest-neighbour interaction: [(0, 1), (0, 3), (1, 2), (2, 3)]\n",
      "=========\n",
      "Nearest-neighbour interaction: [(0, 1), (1, 2), (2, 3)]\n",
      "Next nearest-neighbour interaction: [(0, 2), (1, 3)]\n",
      "=========\n"
     ]
    }
   ],
   "source": [
    "from graph import Hypercube\n",
    "\n",
    "## Simple 1D hypercube with 4 particles, nearest-neighbour interaction, and with periodic boundary conditions\n",
    "chain1d = Hypercube(length=4, dimension=1, pbc=True, next_nearest=False)\n",
    "\n",
    "print('Nearest-neighbour interaction:', chain1d.bonds)\n",
    "print('=========')\n",
    "\n",
    "## Simple 1D hypercube with 4 particles, nearest-neighbour interaction, next nearest-neighbour interaction,and periodic boundary conditions\n",
    "chain1d_j1j2 = Hypercube(length=4, dimension=1, pbc=False, next_nearest=True)\n",
    "\n",
    "print('Nearest-neighbour interaction:', chain1d_j1j2.bonds)\n",
    "print('Next nearest-neighbour interaction:', chain1d_j1j2.bonds_next)\n",
    "print('=========')\n",
    "\n",
    "## Simple 2D hypercube with 3x3 particles and open boundary conditions\n",
    "chain2d = Hypercube(length=3, dimension=2, pbc=False, next_nearest=False)\n",
    "\n",
    "## Simple 3D hypercube with 3x3x3 particles and open boundary conditions\n",
    "chain3d = Hypercube(length=3, dimension=3, pbc=False, next_nearest=False)"
   ]
  },
  {
   "cell_type": "markdown",
   "metadata": {},
   "source": [
    "### Network"
   ]
  },
  {
   "cell_type": "code",
   "execution_count": 4,
   "metadata": {},
   "outputs": [
    {
     "name": "stdout",
     "output_type": "stream",
     "text": [
      "Bonds 1d: [(0, 1), (0, 2), (1, 2)]\n",
      "Bonds 1d: [([0], [1]), ([0], [2]), ([1], [2])]\n",
      "Bonds 2d: [(0, 1), (0, 2), (1, 3), (2, 3), (2, 4), (3, 5), (4, 5), (4, 6), (5, 7), (6, 7)]\n",
      "Bonds 2d: [([0, 0], [1, 0]), ([0, 0], [0, 1]), ([1, 0], [1, 1]), ([0, 1], [1, 1]), ([0, 1], [0, 2]), ([1, 1], [1, 2]), ([0, 2], [1, 2]), ([0, 2], [0, 3]), ([1, 2], [1, 3]), ([0, 3], [1, 3])]\n"
     ]
    }
   ],
   "source": [
    "### Use networkx, possibility to have different heights and widths\n",
    "from graph import Network\n",
    "import networkx as nx\n",
    "\n",
    "g = nx.grid_graph([3], True)\n",
    "\n",
    "chain1d_nx = Network(g, True)\n",
    "print('Bonds 1d:', chain1d_nx.bonds)\n",
    "print('Bonds 1d:', [(chain1d_nx._point_to_coordinate(a), chain1d_nx._point_to_coordinate(b)) for (a,b) in chain1d_nx.bonds])\n",
    "\n",
    "g = nx.grid_graph([4,2], False)\n",
    "\n",
    "chain2d_nx = Network(g, False)\n",
    "print('Bonds 2d:', chain2d_nx.bonds)\n",
    "print('Bonds 2d:', [(chain2d_nx._point_to_coordinate(a), chain2d_nx._point_to_coordinate(b)) for (a,b) in chain2d_nx.bonds])\n"
   ]
  },
  {
   "cell_type": "markdown",
   "metadata": {},
   "source": [
    "## Hamiltonian "
   ]
  },
  {
   "cell_type": "markdown",
   "metadata": {},
   "source": [
    "**Ising**\n",
    "\n",
    "$H_I = -J \\sum_{<i,j>} \\sigma^z_i \\sigma^z_j -h \\sum_{i} \\sigma^x_i $\n",
    "\n",
    "**Ising J1-J2**\n",
    "\n",
    "$H_{IJ} = -J_1 \\sum_{<i,j>} \\sigma^z_i \\sigma^z_j -J_2 \\sum_{<<i,j>>} \\sigma^z_i \\sigma^z_j - h \\sum_{i} \\sigma^x_i $ \n",
    "\n",
    "**Heisenberg**\n",
    "\n",
    "$H_H = \\sum_{<i,j>} J_z \\sigma^z_i \\sigma^z_j + J_y \\sigma^y_i \\sigma^y_j + J_x \\sigma^x_i \\sigma^x_j$\n",
    "\n",
    "**Heisenberg J1-J2**\n",
    "\n",
    "$H_{HJ} = J_1 \\sum_{<i,j>} (\\Delta \\sigma^z_i \\sigma^z_j + \\sigma^y_i \\sigma^y_j + \\sigma^x_i \\sigma^x_j) + J_2 \\sum_{<i,j>} (\\sigma^z_i \\sigma^z_j + \\sigma^y_i \\sigma^y_j + \\sigma^x_i \\sigma^x_j$)\n"
   ]
  },
  {
   "cell_type": "code",
   "execution_count": 5,
   "metadata": {},
   "outputs": [],
   "source": [
    "from hamiltonian import *\n",
    "\n",
    "ising = Ising(chain1d, j=1.0, h=1.0)\n",
    "\n",
    "ising_j1j2 = IsingJ1J2(chain1d_j1j2, j1=1.0, h=1.0, j2=0.5)\n",
    "\n",
    "heisenberg = Heisenberg(chain1d, jx=-1.0, jy=-1.0, jz =2.0, total_sz = 0)\n",
    "\n",
    "heisenberg_j1j2 = HeisenbergJ1J2(chain1d_j1j2, j1=1.0, delta=1.0, j2=0.1, total_sz = 0)"
   ]
  },
  {
   "cell_type": "markdown",
   "metadata": {},
   "source": [
    "### Exact diagonalisation"
   ]
  },
  {
   "cell_type": "code",
   "execution_count": 6,
   "metadata": {},
   "outputs": [
    {
     "name": "stdout",
     "output_type": "stream",
     "text": [
      "Ground state energy -5.22625185950551\n",
      "Probability of configurations at the ground state [0.33251454 0.03125    0.03125    0.01830583 0.03125    0.0058738\n",
      " 0.01830583 0.03125    0.03125    0.01830583 0.0058738  0.03125\n",
      " 0.01830583 0.03125    0.03125    0.33251454]\n"
     ]
    },
    {
     "data": {
      "image/png": "[encoded data removed]",
      "text/plain": [
       "<Figure size 432x288 with 1 Axes>"
      ]
     },
     "metadata": {
      "needs_background": "light"
     },
     "output_type": "display_data"
    }
   ],
   "source": [
    "# Diagonalise the Ising model\n",
    "\n",
    "## for systems of up to 10 particles\n",
    "ising.diagonalize()\n",
    "\n",
    "## for systems of up to 20 particles\n",
    "#ising.diagonalize_sparse()\n",
    "\n",
    "print('Ground state energy', ising.get_gs_energy())\n",
    "print('Probability of configurations at the ground state', ising.get_gs_probability())\n",
    "plt.title('Ising Wave Function')\n",
    "plt.plot(ising.get_gs())\n",
    "plt.xlabel('Configuration')\n",
    "plt.ylabel('$\\Psi(x)$')\n",
    "plt.show()"
   ]
  },
  {
   "cell_type": "code",
   "execution_count": 7,
   "metadata": {},
   "outputs": [
    {
     "name": "stdout",
     "output_type": "stream",
     "text": [
      "Ground state energy -10.928203230275525\n",
      "Probability of configurations at the ground state [0.05283122 0.39433757 0.05283122 0.05283122 0.39433757 0.05283122]\n"
     ]
    },
    {
     "name": "stderr",
     "output_type": "stream",
     "text": [
      "/home/remmy/.pyenv/versions/3.7.5/lib/python3.7/site-packages/numpy/core/_asarray.py:85: ComplexWarning: Casting complex values to real discards the imaginary part\n",
      "  return array(a, dtype, copy=False, order=order)\n"
     ]
    },
    {
     "data": {
      "image/png": "[encoded data removed]",
      "text/plain": [
       "<Figure size 432x288 with 1 Axes>"
      ]
     },
     "metadata": {
      "needs_background": "light"
     },
     "output_type": "display_data"
    }
   ],
   "source": [
    "# Diagonalise the Heisenberg model\n",
    "\n",
    "## for systems of up to 20 particles\n",
    "heisenberg.diagonalize_sparse()\n",
    "\n",
    "## The configurations are less due to the total sz = 0\n",
    "print('Ground state energy', heisenberg.get_gs_energy())\n",
    "print('Probability of configurations at the ground state', heisenberg.get_gs_probability())\n",
    "plt.title('Heisenberg Wave Function')\n",
    "plt.plot(heisenberg.get_gs())\n",
    "plt.xlabel('Configuration')\n",
    "plt.ylabel('$\\Psi(x)$')\n",
    "plt.show()"
   ]
  },
  {
   "cell_type": "markdown",
   "metadata": {},
   "source": [
    "## Observable"
   ]
  },
  {
   "cell_type": "code",
   "execution_count": 8,
   "metadata": {},
   "outputs": [
    {
     "name": "stdout",
     "output_type": "stream",
     "text": [
      "-0.1372455323976858\n",
      "-0.13888705059512224\n",
      "0.0027223757059790326\n",
      "0.0027404496417532264\n",
      "0.9817835851278744\n",
      "-0.9817835851278744\n",
      "-0.13890755150845063\n",
      "0.13890755150845063\n",
      "-0.13890755150845063\n",
      "0.13890755150845063\n"
     ]
    }
   ],
   "source": [
    "#### 1D\n",
    "\n",
    "from observable import *\n",
    "\n",
    "chain1d_j1j2 = Hypercube(length=8, dimension=1, pbc=False, next_nearest=True)\n",
    "ising_j1j2 = IsingJ1J2(chain1d_j1j2, j1=1.0, j2=-5.0, h=1.0)\n",
    "ising_j1j2.diagonalize_sparse()\n",
    "\n",
    "## Get all possible configurations\n",
    "confs = []\n",
    "num_particles = chain1d_j1j2.num_points\n",
    "for i in range(2 ** num_particles):\n",
    "    conf_bin = format(i, '#0%db' % (num_particles + 2))\n",
    "    ## configuration in binary -1 1\n",
    "    conf = np.array([1 if c == '1' else -1 for c in conf_bin[2:]])\n",
    "    confs.append(conf)\n",
    "    \n",
    "corr_z = CorrelationZ(num_particles, 0)\n",
    "print(corr_z.get_value_antiferro(ising_j1j2.get_gs_probability(), confs))\n",
    "print(corr_z.get_value_ferro(ising_j1j2.get_gs_probability(), confs))\n",
    "\n",
    "mz2 = MagnetizationZSquare(num_particles, chain1d.dimension)\n",
    "print(mz2.get_value_antiferro(ising_j1j2.get_gs_probability(), confs))\n",
    "print(mz2.get_value_ferro(ising_j1j2.get_gs_probability(), confs))\n",
    "\n",
    "corr_nn_z = CorrelationNNZ(chain1d_j1j2)\n",
    "print(corr_nn_z.get_value_antiferro(ising_j1j2.get_gs_probability(), confs))\n",
    "print(corr_nn_z.get_value_ferro(ising_j1j2.get_gs_probability(), confs))\n",
    "\n",
    "corr_n_z = CorrelationNZ(chain1d_j1j2)\n",
    "print(corr_n_z.get_value_antiferro(ising_j1j2.get_gs_probability(), confs))\n",
    "print(corr_n_z.get_value_ferro(ising_j1j2.get_gs_probability(), confs))\n",
    "\n",
    "mx = MagnetizationX(chain1d_j1j2.num_points)\n",
    "print(corr_n_z.get_value_antiferro(ising_j1j2.get_gs_probability(), confs))\n",
    "print(corr_n_z.get_value_ferro(ising_j1j2.get_gs_probability(), confs))\n"
   ]
  },
  {
   "cell_type": "code",
   "execution_count": 9,
   "metadata": {},
   "outputs": [
    {
     "name": "stdout",
     "output_type": "stream",
     "text": [
      "0.9842977084360119\n",
      "-0.328120361682231\n",
      "0.98526113132378\n",
      "0.0009715772606027315\n"
     ]
    }
   ],
   "source": [
    "#### 2D\n",
    "\n",
    "from observable import *\n",
    "\n",
    "chain2d = Hypercube(length=4, dimension=2, pbc=True, next_nearest=False)\n",
    "ising_2d = Ising(chain2d, j=-2.0, h=1.0)\n",
    "ising_2d.diagonalize_sparse()\n",
    "\n",
    "## Get all possible configurations\n",
    "confs = []\n",
    "num_particles = chain2d.num_points\n",
    "for i in range(2 ** num_particles):\n",
    "    conf_bin = format(i, '#0%db' % (num_particles + 2))\n",
    "    ## configuration in binary -1 1\n",
    "    conf = np.array([1 if c == '1' else -1 for c in conf_bin[2:]])\n",
    "    confs.append(conf)\n",
    "\n",
    "## middle position for 2D, use d_0 = numrows and d_1 = numrows * 2 to get the middle row\n",
    "numrows = chain2d.length\n",
    "pos =  int(numrows * (numrows / 2 - 1) + (numrows / 2))\n",
    "corr_z = CorrelationZ( num_particles, position=pos, d_0=numrows, d_1=numrows*2)\n",
    "#print(corr_z.get_value())\n",
    "print(corr_z.get_value_antiferro(ising_2d.get_gs_probability(), confs, position=pos))\n",
    "print(corr_z.get_value_ferro(ising_2d.get_gs_probability(), confs, position=pos))\n",
    "\n",
    "mz2 = MagnetizationZSquare(num_particles, chain2d.dimension)\n",
    "print(mz2.get_value_antiferro(ising_2d.get_gs_probability(), confs))\n",
    "print(mz2.get_value_ferro(ising_2d.get_gs_probability(), confs))\n"
   ]
  },
  {
   "cell_type": "markdown",
   "metadata": {},
   "source": [
    "## Sampler"
   ]
  },
  {
   "cell_type": "code",
   "execution_count": 10,
   "metadata": {},
   "outputs": [
    {
     "name": "stdout",
     "output_type": "stream",
     "text": [
      "tf.Tensor(\n",
      "[[ 1.  1.  1. -1.]\n",
      " [-1. -1.  1.  1.]\n",
      " [ 1.  1. -1. -1.]\n",
      " ...\n",
      " [ 1. -1. -1.  1.]\n",
      " [-1. -1.  1. -1.]\n",
      " [-1.  1.  1.  1.]], shape=(1000, 4), dtype=float32)\n"
     ]
    }
   ],
   "source": [
    "from sampler import Gibbs, MetropolisLocal, MetropolisExchange\n",
    "\n",
    "gibbs = Gibbs(1000,1)\n",
    "met_local = MetropolisLocal(1000, 100)\n",
    "met_exchange = MetropolisExchange(1000, 100)\n",
    "\n",
    "samples = gibbs.get_initial_random_samples(chain1d.length)\n",
    "print(samples)"
   ]
  },
  {
   "cell_type": "markdown",
   "metadata": {},
   "source": [
    "## Model"
   ]
  },
  {
   "cell_type": "code",
   "execution_count": 11,
   "metadata": {},
   "outputs": [],
   "source": [
    "## RBM\n",
    "\n",
    "from model.rbm.realpos import RBMRealPos\n",
    "from functools import partial\n",
    "\n",
    "initializer = partial(np.random.normal, loc= 0.0, scale=0.01)\n",
    "rbm = RBMRealPos(chain1d.length, density=2, initializer= initializer)"
   ]
  },
  {
   "cell_type": "code",
   "execution_count": 12,
   "metadata": {},
   "outputs": [],
   "source": [
    "## MLP\n",
    "\n",
    "from model.mlp.realpos import MLPRealPos\n",
    "\n",
    "mlp = MLPRealPos(chain1d.length, [8])\n"
   ]
  },
  {
   "cell_type": "markdown",
   "metadata": {},
   "source": [
    "## Learner"
   ]
  },
  {
   "cell_type": "code",
   "execution_count": 13,
   "metadata": {},
   "outputs": [
    {
     "name": "stdout",
     "output_type": "stream",
     "text": [
      "===== Training start\n",
      "Epoch: 0, energy: -4.0240, std: 1.8933, std / mean: 0.4705, relerror: 0.23004, time: 0.03316\n",
      "Epoch: 1, energy: -3.9280, std: 1.9739, std / mean: 0.5025, relerror: 0.24841, time: 0.01220\n",
      "Epoch: 2, energy: -4.0319, std: 1.9900, std / mean: 0.4936, relerror: 0.22852, time: 0.01210\n",
      "Epoch: 3, energy: -4.0398, std: 1.9233, std / mean: 0.4761, relerror: 0.22702, time: 0.01205\n",
      "Epoch: 4, energy: -4.0589, std: 2.1303, std / mean: 0.5249, relerror: 0.22337, time: 0.01204\n",
      "Epoch: 5, energy: -3.9931, std: 1.9951, std / mean: 0.4996, relerror: 0.23596, time: 0.01200\n",
      "Epoch: 6, energy: -4.0279, std: 2.1274, std / mean: 0.5282, relerror: 0.22929, time: 0.01207\n",
      "Epoch: 7, energy: -4.0357, std: 2.0505, std / mean: 0.5081, relerror: 0.22781, time: 0.01204\n",
      "Epoch: 8, energy: -3.8598, std: 2.0355, std / mean: 0.5274, relerror: 0.26146, time: 0.01201\n",
      "Epoch: 9, energy: -3.9885, std: 1.9751, std / mean: 0.4952, relerror: 0.23683, time: 0.01220\n",
      "Epoch: 10, energy: -4.0957, std: 2.0066, std / mean: 0.4899, relerror: 0.21632, time: 0.01901\n",
      "Epoch: 11, energy: -3.9835, std: 1.9915, std / mean: 0.4999, relerror: 0.23778, time: 0.02819\n",
      "Epoch: 12, energy: -4.0598, std: 1.9747, std / mean: 0.4864, relerror: 0.22320, time: 0.02563\n",
      "Epoch: 13, energy: -3.9361, std: 2.0474, std / mean: 0.5202, relerror: 0.24686, time: 0.02312\n",
      "Epoch: 14, energy: -4.0395, std: 2.0441, std / mean: 0.5060, relerror: 0.22708, time: 0.02069\n",
      "Epoch: 15, energy: -4.0626, std: 2.0248, std / mean: 0.4984, relerror: 0.22265, time: 0.01951\n",
      "Epoch: 16, energy: -3.9834, std: 2.0012, std / mean: 0.5024, relerror: 0.23782, time: 0.01894\n",
      "Epoch: 17, energy: -3.9407, std: 2.1085, std / mean: 0.5351, relerror: 0.24598, time: 0.01847\n",
      "Epoch: 18, energy: -4.0739, std: 2.0113, std / mean: 0.4937, relerror: 0.22049, time: 0.02219\n",
      "Epoch: 19, energy: -4.0134, std: 1.8927, std / mean: 0.4716, relerror: 0.23207, time: 0.02952\n",
      "Epoch: 20, energy: -4.0600, std: 1.9038, std / mean: 0.4689, relerror: 0.22315, time: 0.02525\n",
      "Epoch: 21, energy: -4.0621, std: 1.9680, std / mean: 0.4845, relerror: 0.22275, time: 0.02304\n",
      "Epoch: 22, energy: -4.1538, std: 2.1220, std / mean: 0.5108, relerror: 0.20520, time: 0.02137\n",
      "Epoch: 23, energy: -4.1908, std: 1.9608, std / mean: 0.4679, relerror: 0.19813, time: 0.01906\n",
      "Epoch: 24, energy: -4.0898, std: 1.9903, std / mean: 0.4867, relerror: 0.21745, time: 0.02234\n",
      "Epoch: 25, energy: -4.0305, std: 2.0386, std / mean: 0.5058, relerror: 0.22880, time: 0.03031\n",
      "Epoch: 26, energy: -4.0761, std: 1.8504, std / mean: 0.4540, relerror: 0.22007, time: 0.02776\n",
      "Epoch: 27, energy: -4.1248, std: 1.9570, std / mean: 0.4744, relerror: 0.21075, time: 0.02454\n",
      "Epoch: 28, energy: -4.0516, std: 1.9857, std / mean: 0.4901, relerror: 0.22476, time: 0.02224\n",
      "Epoch: 29, energy: -4.1331, std: 2.0341, std / mean: 0.4921, relerror: 0.20917, time: 0.02043\n",
      "Epoch: 30, energy: -4.0545, std: 1.9279, std / mean: 0.4755, relerror: 0.22421, time: 0.01976\n",
      "Epoch: 31, energy: -4.1187, std: 1.9978, std / mean: 0.4851, relerror: 0.21192, time: 0.01872\n",
      "Epoch: 32, energy: -4.1381, std: 1.9421, std / mean: 0.4693, relerror: 0.20820, time: 0.01699\n",
      "Epoch: 33, energy: -4.0584, std: 1.9039, std / mean: 0.4691, relerror: 0.22346, time: 0.01622\n",
      "Epoch: 34, energy: -4.0852, std: 1.8708, std / mean: 0.4579, relerror: 0.21834, time: 0.01559\n",
      "Epoch: 35, energy: -4.0856, std: 1.9548, std / mean: 0.4785, relerror: 0.21826, time: 0.01525\n",
      "Epoch: 36, energy: -4.0888, std: 1.9277, std / mean: 0.4715, relerror: 0.21764, time: 0.01506\n",
      "Epoch: 37, energy: -4.1623, std: 1.9042, std / mean: 0.4575, relerror: 0.20358, time: 0.01936\n",
      "Epoch: 38, energy: -4.1822, std: 1.9181, std / mean: 0.4586, relerror: 0.19978, time: 0.02888\n",
      "Epoch: 39, energy: -4.2510, std: 1.9737, std / mean: 0.4643, relerror: 0.18660, time: 0.02401\n",
      "Epoch: 40, energy: -4.1805, std: 1.8498, std / mean: 0.4425, relerror: 0.20011, time: 0.02496\n",
      "Epoch: 41, energy: -4.1673, std: 1.8887, std / mean: 0.4532, relerror: 0.20262, time: 0.02310\n",
      "Epoch: 42, energy: -4.1369, std: 1.9602, std / mean: 0.4738, relerror: 0.20844, time: 0.02129\n",
      "Epoch: 43, energy: -4.2511, std: 1.9587, std / mean: 0.4608, relerror: 0.18658, time: 0.01877\n",
      "Epoch: 44, energy: -4.0875, std: 1.9578, std / mean: 0.4790, relerror: 0.21789, time: 0.01786\n",
      "Epoch: 45, energy: -4.1273, std: 1.9512, std / mean: 0.4728, relerror: 0.21027, time: 0.01687\n",
      "Epoch: 46, energy: -4.1475, std: 1.9707, std / mean: 0.4752, relerror: 0.20641, time: 0.01663\n",
      "Epoch: 47, energy: -4.1016, std: 1.9126, std / mean: 0.4663, relerror: 0.21519, time: 0.01564\n",
      "Epoch: 48, energy: -4.2019, std: 1.8879, std / mean: 0.4493, relerror: 0.19600, time: 0.01510\n",
      "Epoch: 49, energy: -4.1611, std: 1.8472, std / mean: 0.4439, relerror: 0.20381, time: 0.01468\n",
      "Epoch: 50, energy: -4.1460, std: 1.8882, std / mean: 0.4554, relerror: 0.20669, time: 0.01418\n",
      "Epoch: 51, energy: -4.1976, std: 1.8155, std / mean: 0.4325, relerror: 0.19682, time: 0.01375\n",
      "Epoch: 52, energy: -4.1148, std: 1.8656, std / mean: 0.4534, relerror: 0.21267, time: 0.01348\n",
      "Epoch: 53, energy: -4.2485, std: 1.8854, std / mean: 0.4438, relerror: 0.18709, time: 0.01316\n",
      "Epoch: 54, energy: -4.1132, std: 1.9113, std / mean: 0.4647, relerror: 0.21298, time: 0.01375\n",
      "Epoch: 55, energy: -4.3532, std: 1.8858, std / mean: 0.4332, relerror: 0.16705, time: 0.01318\n",
      "Epoch: 56, energy: -4.1474, std: 1.9913, std / mean: 0.4801, relerror: 0.20643, time: 0.01256\n",
      "Epoch: 57, energy: -4.2725, std: 2.0121, std / mean: 0.4709, relerror: 0.18249, time: 0.01250\n",
      "Epoch: 58, energy: -4.2944, std: 1.8331, std / mean: 0.4269, relerror: 0.17831, time: 0.01259\n",
      "Epoch: 59, energy: -4.2648, std: 1.8493, std / mean: 0.4336, relerror: 0.18397, time: 0.01245\n",
      "Epoch: 60, energy: -4.2867, std: 1.8156, std / mean: 0.4235, relerror: 0.17977, time: 0.01261\n",
      "Epoch: 61, energy: -4.2618, std: 1.8991, std / mean: 0.4456, relerror: 0.18455, time: 0.01243\n",
      "Epoch: 62, energy: -4.1448, std: 1.8489, std / mean: 0.4461, relerror: 0.20694, time: 0.01243\n",
      "Epoch: 63, energy: -4.2988, std: 1.8302, std / mean: 0.4257, relerror: 0.17745, time: 0.01257\n",
      "Epoch: 64, energy: -4.3018, std: 1.8338, std / mean: 0.4263, relerror: 0.17688, time: 0.01248\n",
      "Epoch: 65, energy: -4.3407, std: 1.8557, std / mean: 0.4275, relerror: 0.16944, time: 0.01932\n",
      "Epoch: 66, energy: -4.2623, std: 1.8798, std / mean: 0.4410, relerror: 0.18444, time: 0.02849\n",
      "Epoch: 67, energy: -4.3074, std: 1.8305, std / mean: 0.4250, relerror: 0.17582, time: 0.02551\n",
      "Epoch: 68, energy: -4.2922, std: 1.8644, std / mean: 0.4344, relerror: 0.17873, time: 0.02307\n",
      "Epoch: 69, energy: -4.3637, std: 1.7844, std / mean: 0.4089, relerror: 0.16504, time: 0.02043\n",
      "Epoch: 70, energy: -4.2872, std: 1.7799, std / mean: 0.4152, relerror: 0.17968, time: 0.01897\n",
      "Epoch: 71, energy: -4.2517, std: 1.8255, std / mean: 0.4293, relerror: 0.18647, time: 0.01798\n",
      "Epoch: 72, energy: -4.3565, std: 1.7608, std / mean: 0.4042, relerror: 0.16642, time: 0.01695\n",
      "Epoch: 73, energy: -4.2426, std: 1.9244, std / mean: 0.4536, relerror: 0.18821, time: 0.01650\n",
      "Epoch: 74, energy: -4.2140, std: 1.9016, std / mean: 0.4513, relerror: 0.19368, time: 0.01849\n",
      "Epoch: 75, energy: -4.2822, std: 1.8289, std / mean: 0.4271, relerror: 0.18063, time: 0.02176\n",
      "Epoch: 76, energy: -4.3383, std: 1.7392, std / mean: 0.4009, relerror: 0.16991, time: 0.02022\n",
      "Epoch: 77, energy: -4.4614, std: 1.7018, std / mean: 0.3815, relerror: 0.14635, time: 0.01873\n",
      "Epoch: 78, energy: -4.4125, std: 1.7938, std / mean: 0.4065, relerror: 0.15571, time: 0.01855\n",
      "Epoch: 79, energy: -4.4109, std: 1.8154, std / mean: 0.4116, relerror: 0.15602, time: 0.01760\n",
      "Epoch: 80, energy: -4.3288, std: 1.7504, std / mean: 0.4044, relerror: 0.17173, time: 0.01616\n",
      "Epoch: 81, energy: -4.4130, std: 1.7814, std / mean: 0.4037, relerror: 0.15562, time: 0.02053\n",
      "Epoch: 82, energy: -4.4004, std: 1.8000, std / mean: 0.4091, relerror: 0.15802, time: 0.02682\n",
      "Epoch: 83, energy: -4.4831, std: 1.7680, std / mean: 0.3944, relerror: 0.14219, time: 0.02359\n",
      "Epoch: 84, energy: -4.4724, std: 1.7526, std / mean: 0.3919, relerror: 0.14423, time: 0.02137\n",
      "Epoch: 85, energy: -4.4006, std: 1.6772, std / mean: 0.3811, relerror: 0.15797, time: 0.01979\n",
      "Epoch: 86, energy: -4.3752, std: 1.7763, std / mean: 0.4060, relerror: 0.16283, time: 0.01860\n",
      "Epoch: 87, energy: -4.3315, std: 1.8071, std / mean: 0.4172, relerror: 0.17120, time: 0.01754\n"
     ]
    },
    {
     "name": "stdout",
     "output_type": "stream",
     "text": [
      "Epoch: 88, energy: -4.4046, std: 1.7885, std / mean: 0.4061, relerror: 0.15722, time: 0.01734\n",
      "Epoch: 89, energy: -4.4752, std: 1.6612, std / mean: 0.3712, relerror: 0.14370, time: 0.01598\n",
      "Epoch: 90, energy: -4.3733, std: 1.7621, std / mean: 0.4029, relerror: 0.16321, time: 0.01622\n",
      "Epoch: 91, energy: -4.4643, std: 1.7070, std / mean: 0.3824, relerror: 0.14578, time: 0.01479\n",
      "Epoch: 92, energy: -4.4008, std: 1.7360, std / mean: 0.3945, relerror: 0.15795, time: 0.02046\n",
      "Epoch: 93, energy: -4.5985, std: 1.7409, std / mean: 0.3786, relerror: 0.12011, time: 0.02803\n",
      "Epoch: 94, energy: -4.4610, std: 1.7295, std / mean: 0.3877, relerror: 0.14643, time: 0.02462\n",
      "Epoch: 95, energy: -4.5020, std: 1.6859, std / mean: 0.3745, relerror: 0.13858, time: 0.02217\n",
      "Epoch: 96, energy: -4.5379, std: 1.6947, std / mean: 0.3735, relerror: 0.13171, time: 0.02135\n",
      "Epoch: 97, energy: -4.4853, std: 1.7392, std / mean: 0.3878, relerror: 0.14177, time: 0.01879\n",
      "Epoch: 98, energy: -4.5240, std: 1.6920, std / mean: 0.3740, relerror: 0.13436, time: 0.01883\n",
      "Epoch: 99, energy: -4.4851, std: 1.6746, std / mean: 0.3734, relerror: 0.14181, time: 0.01786\n",
      "Epoch: 100, energy: -4.4718, std: 1.6899, std / mean: 0.3779, relerror: 0.14437, time: 0.02363\n",
      "Epoch: 101, energy: -4.5157, std: 1.6597, std / mean: 0.3675, relerror: 0.13595, time: 0.03029\n",
      "Epoch: 102, energy: -4.5519, std: 1.6266, std / mean: 0.3574, relerror: 0.12904, time: 0.02951\n",
      "Epoch: 103, energy: -4.5712, std: 1.6009, std / mean: 0.3502, relerror: 0.12534, time: 0.02557\n",
      "Epoch: 104, energy: -4.5240, std: 1.6648, std / mean: 0.3680, relerror: 0.13438, time: 0.02543\n",
      "Epoch: 105, energy: -4.5922, std: 1.5921, std / mean: 0.3467, relerror: 0.12133, time: 0.02785\n",
      "Epoch: 106, energy: -4.6267, std: 1.5439, std / mean: 0.3337, relerror: 0.11471, time: 0.02880\n",
      "Epoch: 107, energy: -4.5686, std: 1.6074, std / mean: 0.3518, relerror: 0.12583, time: 0.02545\n",
      "Epoch: 108, energy: -4.7432, std: 1.5390, std / mean: 0.3245, relerror: 0.09244, time: 0.02586\n",
      "Epoch: 109, energy: -4.5706, std: 1.6438, std / mean: 0.3596, relerror: 0.12545, time: 0.02816\n",
      "Epoch: 110, energy: -4.6289, std: 1.5471, std / mean: 0.3342, relerror: 0.11429, time: 0.02638\n",
      "Epoch: 111, energy: -4.6186, std: 1.5980, std / mean: 0.3460, relerror: 0.11627, time: 0.02853\n",
      "Epoch: 112, energy: -4.6681, std: 1.5389, std / mean: 0.3297, relerror: 0.10680, time: 0.02473\n",
      "Epoch: 113, energy: -4.6239, std: 1.5486, std / mean: 0.3349, relerror: 0.11526, time: 0.02270\n",
      "Epoch: 114, energy: -4.6091, std: 1.5514, std / mean: 0.3366, relerror: 0.11809, time: 0.02289\n",
      "Epoch: 115, energy: -4.6205, std: 1.5687, std / mean: 0.3395, relerror: 0.11590, time: 0.01940\n",
      "Epoch: 116, energy: -4.6619, std: 1.5328, std / mean: 0.3288, relerror: 0.10799, time: 0.01958\n",
      "Epoch: 117, energy: -4.7338, std: 1.5046, std / mean: 0.3179, relerror: 0.09423, time: 0.01490\n",
      "Epoch: 118, energy: -4.7290, std: 1.4891, std / mean: 0.3149, relerror: 0.09515, time: 0.01488\n",
      "Epoch: 119, energy: -4.7646, std: 1.4824, std / mean: 0.3111, relerror: 0.08833, time: 0.01460\n",
      "Epoch: 120, energy: -4.8180, std: 1.3945, std / mean: 0.2894, relerror: 0.07812, time: 0.01446\n",
      "Epoch: 121, energy: -4.6940, std: 1.4349, std / mean: 0.3057, relerror: 0.10184, time: 0.01426\n",
      "Epoch: 122, energy: -4.7428, std: 1.4596, std / mean: 0.3077, relerror: 0.09251, time: 0.01359\n",
      "Epoch: 123, energy: -4.6753, std: 1.5561, std / mean: 0.3328, relerror: 0.10542, time: 0.01289\n",
      "Epoch: 124, energy: -4.8075, std: 1.4485, std / mean: 0.3013, relerror: 0.08013, time: 0.01286\n",
      "Epoch: 125, energy: -4.7631, std: 1.4433, std / mean: 0.3030, relerror: 0.08861, time: 0.01944\n",
      "Epoch: 126, energy: -4.6890, std: 1.5108, std / mean: 0.3222, relerror: 0.10281, time: 0.02946\n",
      "Epoch: 127, energy: -4.7800, std: 1.4185, std / mean: 0.2967, relerror: 0.08539, time: 0.02499\n",
      "Epoch: 128, energy: -4.7639, std: 1.4752, std / mean: 0.3097, relerror: 0.08847, time: 0.02018\n",
      "Epoch: 129, energy: -4.7741, std: 1.3717, std / mean: 0.2873, relerror: 0.08651, time: 0.01243\n",
      "Epoch: 130, energy: -4.7587, std: 1.4320, std / mean: 0.3009, relerror: 0.08946, time: 0.01199\n",
      "Epoch: 131, energy: -4.7521, std: 1.3931, std / mean: 0.2932, relerror: 0.09073, time: 0.01216\n",
      "Epoch: 132, energy: -4.8396, std: 1.3133, std / mean: 0.2714, relerror: 0.07398, time: 0.01206\n",
      "Epoch: 133, energy: -4.7661, std: 1.3732, std / mean: 0.2881, relerror: 0.08805, time: 0.01203\n",
      "Epoch: 134, energy: -4.8396, std: 1.4012, std / mean: 0.2895, relerror: 0.07398, time: 0.01859\n",
      "Epoch: 135, energy: -4.8731, std: 1.3000, std / mean: 0.2668, relerror: 0.06757, time: 0.02800\n",
      "Epoch: 136, energy: -4.7852, std: 1.3265, std / mean: 0.2772, relerror: 0.08440, time: 0.02463\n",
      "Epoch: 137, energy: -4.8851, std: 1.3251, std / mean: 0.2713, relerror: 0.06527, time: 0.02242\n",
      "Epoch: 138, energy: -4.9036, std: 1.2943, std / mean: 0.2639, relerror: 0.06173, time: 0.02350\n",
      "Epoch: 139, energy: -4.8041, std: 1.2977, std / mean: 0.2701, relerror: 0.08077, time: 0.02563\n",
      "Epoch: 140, energy: -4.8214, std: 1.2934, std / mean: 0.2683, relerror: 0.07747, time: 0.02163\n",
      "Epoch: 141, energy: -4.8400, std: 1.2721, std / mean: 0.2628, relerror: 0.07391, time: 0.02007\n",
      "Epoch: 142, energy: -4.9103, std: 1.2283, std / mean: 0.2501, relerror: 0.06045, time: 0.01881\n",
      "Epoch: 143, energy: -4.9191, std: 1.2030, std / mean: 0.2446, relerror: 0.05878, time: 0.01804\n",
      "Epoch: 144, energy: -4.8896, std: 1.2432, std / mean: 0.2542, relerror: 0.06442, time: 0.01716\n",
      "Epoch: 145, energy: -4.8858, std: 1.2071, std / mean: 0.2471, relerror: 0.06513, time: 0.01654\n",
      "Epoch: 146, energy: -4.8914, std: 1.2462, std / mean: 0.2548, relerror: 0.06406, time: 0.01593\n",
      "Epoch: 147, energy: -4.9001, std: 1.2693, std / mean: 0.2590, relerror: 0.06241, time: 0.02095\n",
      "Epoch: 148, energy: -4.9714, std: 1.1545, std / mean: 0.2322, relerror: 0.04876, time: 0.02641\n",
      "Epoch: 149, energy: -4.8824, std: 1.2014, std / mean: 0.2461, relerror: 0.06578, time: 0.01762\n",
      "Epoch: 150, energy: -4.9540, std: 1.1373, std / mean: 0.2296, relerror: 0.05210, time: 0.01666\n",
      "Epoch: 151, energy: -4.9186, std: 1.1939, std / mean: 0.2427, relerror: 0.05886, time: 0.01494\n",
      "Epoch: 152, energy: -4.8906, std: 1.2337, std / mean: 0.2523, relerror: 0.06422, time: 0.01430\n",
      "Epoch: 153, energy: -4.9823, std: 1.0736, std / mean: 0.2155, relerror: 0.04668, time: 0.01984\n",
      "Epoch: 154, energy: -5.0113, std: 1.0746, std / mean: 0.2144, relerror: 0.04114, time: 0.02676\n",
      "Epoch: 155, energy: -5.0016, std: 1.0917, std / mean: 0.2183, relerror: 0.04299, time: 0.02155\n",
      "Epoch: 156, energy: -5.0130, std: 1.0424, std / mean: 0.2079, relerror: 0.04080, time: 0.01902\n",
      "Epoch: 157, energy: -5.0150, std: 1.0019, std / mean: 0.1998, relerror: 0.04043, time: 0.01755\n",
      "Epoch: 158, energy: -4.9634, std: 1.0444, std / mean: 0.2104, relerror: 0.05029, time: 0.01677\n",
      "Epoch: 159, energy: -5.0255, std: 0.9781, std / mean: 0.1946, relerror: 0.03842, time: 0.01697\n",
      "Epoch: 160, energy: -5.0295, std: 1.0436, std / mean: 0.2075, relerror: 0.03765, time: 0.01588\n",
      "Epoch: 161, energy: -5.0213, std: 1.0063, std / mean: 0.2004, relerror: 0.03921, time: 0.01611\n",
      "Epoch: 162, energy: -5.0021, std: 1.0357, std / mean: 0.2070, relerror: 0.04290, time: 0.01764\n",
      "Epoch: 163, energy: -4.9886, std: 1.0271, std / mean: 0.2059, relerror: 0.04547, time: 0.02114\n",
      "Epoch: 164, energy: -5.0205, std: 0.9800, std / mean: 0.1952, relerror: 0.03937, time: 0.02039\n",
      "Epoch: 165, energy: -5.0755, std: 0.9262, std / mean: 0.1825, relerror: 0.02885, time: 0.01999\n",
      "Epoch: 166, energy: -5.0457, std: 0.9646, std / mean: 0.1912, relerror: 0.03455, time: 0.02124\n",
      "Epoch: 167, energy: -5.0775, std: 0.8947, std / mean: 0.1762, relerror: 0.02846, time: 0.02828\n",
      "Epoch: 168, energy: -5.0354, std: 0.9769, std / mean: 0.1940, relerror: 0.03652, time: 0.02483\n",
      "Epoch: 169, energy: -5.0689, std: 0.9072, std / mean: 0.1790, relerror: 0.03011, time: 0.02317\n",
      "Epoch: 170, energy: -5.0227, std: 0.9779, std / mean: 0.1947, relerror: 0.03895, time: 0.02048\n",
      "Epoch: 171, energy: -5.0524, std: 0.9109, std / mean: 0.1803, relerror: 0.03326, time: 0.02000\n",
      "Epoch: 172, energy: -5.0187, std: 0.9520, std / mean: 0.1897, relerror: 0.03972, time: 0.01791\n",
      "Epoch: 173, energy: -5.0731, std: 0.8707, std / mean: 0.1716, relerror: 0.02931, time: 0.01677\n",
      "Epoch: 174, energy: -5.0830, std: 0.8819, std / mean: 0.1735, relerror: 0.02740, time: 0.01576\n",
      "Epoch: 175, energy: -5.0395, std: 0.9176, std / mean: 0.1821, relerror: 0.03573, time: 0.01521\n",
      "Epoch: 176, energy: -5.0332, std: 0.9490, std / mean: 0.1885, relerror: 0.03694, time: 0.01486\n",
      "Epoch: 177, energy: -5.1235, std: 0.7363, std / mean: 0.1437, relerror: 0.01966, time: 0.01423\n",
      "Epoch: 178, energy: -5.0875, std: 0.8305, std / mean: 0.1633, relerror: 0.02655, time: 0.01391\n",
      "Epoch: 179, energy: -5.0703, std: 0.7680, std / mean: 0.1515, relerror: 0.02984, time: 0.01354\n",
      "Epoch: 180, energy: -5.0970, std: 0.7795, std / mean: 0.1529, relerror: 0.02473, time: 0.01326\n",
      "Epoch: 181, energy: -5.0546, std: 0.8444, std / mean: 0.1671, relerror: 0.03285, time: 0.01306\n"
     ]
    },
    {
     "name": "stdout",
     "output_type": "stream",
     "text": [
      "Epoch: 182, energy: -5.1004, std: 0.7802, std / mean: 0.1530, relerror: 0.02409, time: 0.01344\n",
      "Epoch: 183, energy: -5.0737, std: 0.7858, std / mean: 0.1549, relerror: 0.02918, time: 0.01241\n",
      "Epoch: 184, energy: -5.0816, std: 0.7582, std / mean: 0.1492, relerror: 0.02769, time: 0.01227\n",
      "Epoch: 185, energy: -5.1162, std: 0.7549, std / mean: 0.1475, relerror: 0.02106, time: 0.01279\n",
      "Epoch: 186, energy: -5.1091, std: 0.7274, std / mean: 0.1424, relerror: 0.02241, time: 0.01214\n",
      "Epoch: 187, energy: -5.1238, std: 0.6680, std / mean: 0.1304, relerror: 0.01960, time: 0.01220\n",
      "Epoch: 188, energy: -5.0669, std: 0.8159, std / mean: 0.1610, relerror: 0.03050, time: 0.01228\n",
      "Epoch: 189, energy: -5.0706, std: 0.7785, std / mean: 0.1535, relerror: 0.02978, time: 0.01215\n",
      "Epoch: 190, energy: -5.1178, std: 0.7025, std / mean: 0.1373, relerror: 0.02075, time: 0.01215\n",
      "Epoch: 191, energy: -5.1295, std: 0.7268, std / mean: 0.1417, relerror: 0.01850, time: 0.01213\n",
      "Epoch: 192, energy: -5.0988, std: 0.7577, std / mean: 0.1486, relerror: 0.02439, time: 0.01212\n",
      "Epoch: 193, energy: -5.1634, std: 0.6481, std / mean: 0.1255, relerror: 0.01203, time: 0.01225\n",
      "Epoch: 194, energy: -5.1451, std: 0.6611, std / mean: 0.1285, relerror: 0.01553, time: 0.01206\n",
      "Epoch: 195, energy: -5.1485, std: 0.6473, std / mean: 0.1257, relerror: 0.01487, time: 0.01943\n",
      "Epoch: 196, energy: -5.1566, std: 0.6455, std / mean: 0.1252, relerror: 0.01333, time: 0.02853\n",
      "Epoch: 197, energy: -5.1277, std: 0.6707, std / mean: 0.1308, relerror: 0.01886, time: 0.01801\n",
      "Epoch: 198, energy: -5.1255, std: 0.7144, std / mean: 0.1394, relerror: 0.01927, time: 0.01690\n",
      "Epoch: 199, energy: -5.1244, std: 0.6922, std / mean: 0.1351, relerror: 0.01949, time: 0.01688\n",
      "Epoch: 200, energy: -5.1598, std: 0.6094, std / mean: 0.1181, relerror: 0.01271, time: 0.01544\n",
      "Epoch: 201, energy: -5.1217, std: 0.6722, std / mean: 0.1312, relerror: 0.02000, time: 0.01496\n",
      "Epoch: 202, energy: -5.0959, std: 0.7021, std / mean: 0.1378, relerror: 0.02493, time: 0.02008\n",
      "Epoch: 203, energy: -5.1385, std: 0.6160, std / mean: 0.1199, relerror: 0.01680, time: 0.02931\n",
      "Epoch: 204, energy: -5.1730, std: 0.5658, std / mean: 0.1094, relerror: 0.01019, time: 0.02594\n",
      "Epoch: 205, energy: -5.1097, std: 0.6698, std / mean: 0.1311, relerror: 0.02230, time: 0.02294\n",
      "Epoch: 206, energy: -5.1681, std: 0.5590, std / mean: 0.1082, relerror: 0.01112, time: 0.02117\n",
      "Epoch: 207, energy: -5.1551, std: 0.5759, std / mean: 0.1117, relerror: 0.01362, time: 0.02058\n",
      "Epoch: 208, energy: -5.1364, std: 0.6058, std / mean: 0.1179, relerror: 0.01718, time: 0.01897\n",
      "Epoch: 209, energy: -5.1489, std: 0.5411, std / mean: 0.1051, relerror: 0.01481, time: 0.01861\n",
      "Epoch: 210, energy: -5.1610, std: 0.5739, std / mean: 0.1112, relerror: 0.01248, time: 0.01720\n",
      "Epoch: 211, energy: -5.1473, std: 0.5910, std / mean: 0.1148, relerror: 0.01510, time: 0.01625\n",
      "Epoch: 212, energy: -5.1710, std: 0.6169, std / mean: 0.1193, relerror: 0.01058, time: 0.01572\n",
      "Epoch: 213, energy: -5.1665, std: 0.5607, std / mean: 0.1085, relerror: 0.01144, time: 0.01568\n",
      "Epoch: 214, energy: -5.1428, std: 0.6189, std / mean: 0.1203, relerror: 0.01597, time: 0.01540\n",
      "Epoch: 215, energy: -5.1757, std: 0.5175, std / mean: 0.1000, relerror: 0.00968, time: 0.01444\n",
      "Epoch: 216, energy: -5.1497, std: 0.5736, std / mean: 0.1114, relerror: 0.01464, time: 0.01429\n",
      "Epoch: 217, energy: -5.1626, std: 0.6091, std / mean: 0.1180, relerror: 0.01217, time: 0.01384\n",
      "Epoch: 218, energy: -5.2005, std: 0.5111, std / mean: 0.0983, relerror: 0.00492, time: 0.01372\n",
      "Epoch: 219, energy: -5.1805, std: 0.5562, std / mean: 0.1074, relerror: 0.00875, time: 0.01335\n",
      "Epoch: 220, energy: -5.1807, std: 0.5535, std / mean: 0.1068, relerror: 0.00871, time: 0.01454\n",
      "Epoch: 221, energy: -5.1399, std: 0.6105, std / mean: 0.1188, relerror: 0.01652, time: 0.01361\n",
      "Epoch: 222, energy: -5.1589, std: 0.5613, std / mean: 0.1088, relerror: 0.01288, time: 0.01345\n",
      "Epoch: 223, energy: -5.2054, std: 0.4699, std / mean: 0.0903, relerror: 0.00399, time: 0.01390\n",
      "Epoch: 224, energy: -5.1602, std: 0.5734, std / mean: 0.1111, relerror: 0.01263, time: 0.01281\n",
      "Epoch: 225, energy: -5.1735, std: 0.5455, std / mean: 0.1054, relerror: 0.01009, time: 0.01239\n",
      "Epoch: 226, energy: -5.1670, std: 0.5665, std / mean: 0.1096, relerror: 0.01134, time: 0.01244\n",
      "Epoch: 227, energy: -5.1664, std: 0.5623, std / mean: 0.1088, relerror: 0.01145, time: 0.01227\n",
      "Epoch: 228, energy: -5.1674, std: 0.5203, std / mean: 0.1007, relerror: 0.01126, time: 0.01233\n",
      "Epoch: 229, energy: -5.1703, std: 0.5619, std / mean: 0.1087, relerror: 0.01071, time: 0.01242\n",
      "Epoch: 230, energy: -5.1721, std: 0.5073, std / mean: 0.0981, relerror: 0.01036, time: 0.01232\n",
      "Epoch: 231, energy: -5.1844, std: 0.5153, std / mean: 0.0994, relerror: 0.00800, time: 0.01906\n",
      "Epoch: 232, energy: -5.1862, std: 0.4984, std / mean: 0.0961, relerror: 0.00766, time: 0.02788\n",
      "Epoch: 233, energy: -5.1666, std: 0.5328, std / mean: 0.1031, relerror: 0.01142, time: 0.02512\n",
      "Epoch: 234, energy: -5.1616, std: 0.5446, std / mean: 0.1055, relerror: 0.01237, time: 0.02234\n",
      "Epoch: 235, energy: -5.1885, std: 0.4924, std / mean: 0.0949, relerror: 0.00722, time: 0.02078\n",
      "Epoch: 236, energy: -5.2030, std: 0.4939, std / mean: 0.0949, relerror: 0.00445, time: 0.01881\n",
      "Epoch: 237, energy: -5.1968, std: 0.4669, std / mean: 0.0898, relerror: 0.00563, time: 0.01785\n",
      "Epoch: 238, energy: -5.1843, std: 0.4940, std / mean: 0.0953, relerror: 0.00803, time: 0.01679\n",
      "Epoch: 239, energy: -5.1937, std: 0.5401, std / mean: 0.1040, relerror: 0.00623, time: 0.01609\n",
      "Epoch: 240, energy: -5.1765, std: 0.4916, std / mean: 0.0950, relerror: 0.00953, time: 0.01547\n",
      "Epoch: 241, energy: -5.1821, std: 0.5150, std / mean: 0.0994, relerror: 0.00845, time: 0.01522\n",
      "Epoch: 242, energy: -5.1870, std: 0.5100, std / mean: 0.0983, relerror: 0.00751, time: 0.01457\n",
      "Epoch: 243, energy: -5.1790, std: 0.5231, std / mean: 0.1010, relerror: 0.00904, time: 0.01411\n",
      "Epoch: 244, energy: -5.1782, std: 0.5006, std / mean: 0.0967, relerror: 0.00920, time: 0.01379\n",
      "Epoch: 245, energy: -5.1841, std: 0.5153, std / mean: 0.0994, relerror: 0.00807, time: 0.01332\n",
      "Epoch: 246, energy: -5.1587, std: 0.5758, std / mean: 0.1116, relerror: 0.01293, time: 0.01381\n",
      "Epoch: 247, energy: -5.2049, std: 0.4800, std / mean: 0.0922, relerror: 0.00408, time: 0.01271\n",
      "Epoch: 248, energy: -5.1781, std: 0.4858, std / mean: 0.0938, relerror: 0.00922, time: 0.01240\n",
      "Epoch: 249, energy: -5.1931, std: 0.4797, std / mean: 0.0924, relerror: 0.00635, time: 0.01441\n",
      "Epoch: 250, energy: -5.1577, std: 0.5871, std / mean: 0.1138, relerror: 0.01312, time: 0.01196\n",
      "Epoch: 251, energy: -5.1874, std: 0.4581, std / mean: 0.0883, relerror: 0.00743, time: 0.01207\n",
      "Epoch: 252, energy: -5.1539, std: 0.5732, std / mean: 0.1112, relerror: 0.01384, time: 0.01195\n",
      "Epoch: 253, energy: -5.1385, std: 0.6008, std / mean: 0.1169, relerror: 0.01678, time: 0.01186\n",
      "Epoch: 254, energy: -5.1929, std: 0.4638, std / mean: 0.0893, relerror: 0.00638, time: 0.01196\n",
      "Epoch: 255, energy: -5.1633, std: 0.4923, std / mean: 0.0954, relerror: 0.01205, time: 0.01187\n",
      "Epoch: 256, energy: -5.1772, std: 0.4805, std / mean: 0.0928, relerror: 0.00938, time: 0.01190\n",
      "Epoch: 257, energy: -5.1931, std: 0.5145, std / mean: 0.0991, relerror: 0.00635, time: 0.01194\n",
      "Epoch: 258, energy: -5.1862, std: 0.4656, std / mean: 0.0898, relerror: 0.00766, time: 0.01189\n",
      "Epoch: 259, energy: -5.1833, std: 0.4594, std / mean: 0.0886, relerror: 0.00821, time: 0.01189\n",
      "Epoch: 260, energy: -5.1827, std: 0.4944, std / mean: 0.0954, relerror: 0.00834, time: 0.01199\n",
      "Epoch: 261, energy: -5.1910, std: 0.5251, std / mean: 0.1011, relerror: 0.00674, time: 0.01189\n",
      "Epoch: 262, energy: -5.1858, std: 0.5271, std / mean: 0.1016, relerror: 0.00775, time: 0.01201\n",
      "Epoch: 263, energy: -5.1806, std: 0.4899, std / mean: 0.0946, relerror: 0.00873, time: 0.01314\n",
      "Epoch: 264, energy: -5.1891, std: 0.5072, std / mean: 0.0977, relerror: 0.00710, time: 0.01234\n",
      "Epoch: 265, energy: -5.2113, std: 0.4423, std / mean: 0.0849, relerror: 0.00287, time: 0.01233\n",
      "Epoch: 266, energy: -5.1938, std: 0.4921, std / mean: 0.0947, relerror: 0.00621, time: 0.01314\n",
      "Epoch: 267, energy: -5.2052, std: 0.5378, std / mean: 0.1033, relerror: 0.00402, time: 0.01253\n",
      "Epoch: 268, energy: -5.1927, std: 0.5132, std / mean: 0.0988, relerror: 0.00643, time: 0.01242\n",
      "Epoch: 269, energy: -5.2122, std: 0.4631, std / mean: 0.0888, relerror: 0.00270, time: 0.01236\n",
      "Epoch: 270, energy: -5.2171, std: 0.5032, std / mean: 0.0965, relerror: 0.00176, time: 0.01236\n",
      "Epoch: 271, energy: -5.1878, std: 0.5301, std / mean: 0.1022, relerror: 0.00736, time: 0.01238\n",
      "Epoch: 272, energy: -5.1765, std: 0.5165, std / mean: 0.0998, relerror: 0.00952, time: 0.01241\n",
      "Epoch: 273, energy: -5.1790, std: 0.5202, std / mean: 0.1004, relerror: 0.00905, time: 0.01238\n",
      "Epoch: 274, energy: -5.1689, std: 0.5295, std / mean: 0.1024, relerror: 0.01098, time: 0.01233\n",
      "Epoch: 275, energy: -5.1865, std: 0.4955, std / mean: 0.0955, relerror: 0.00761, time: 0.01230\n",
      "Epoch: 276, energy: -5.1772, std: 0.4801, std / mean: 0.0927, relerror: 0.00939, time: 0.01242\n",
      "Epoch: 277, energy: -5.1785, std: 0.5149, std / mean: 0.0994, relerror: 0.00914, time: 0.01231\n",
      "Epoch: 278, energy: -5.2119, std: 0.4541, std / mean: 0.0871, relerror: 0.00274, time: 0.01242\n"
     ]
    },
    {
     "name": "stdout",
     "output_type": "stream",
     "text": [
      "Epoch: 279, energy: -5.1911, std: 0.5186, std / mean: 0.0999, relerror: 0.00673, time: 0.01317\n",
      "Epoch: 280, energy: -5.1944, std: 0.5430, std / mean: 0.1045, relerror: 0.00609, time: 0.01255\n",
      "Epoch: 281, energy: -5.1989, std: 0.5069, std / mean: 0.0975, relerror: 0.00524, time: 0.01235\n",
      "Epoch: 282, energy: -5.1701, std: 0.5580, std / mean: 0.1079, relerror: 0.01074, time: 0.01300\n",
      "Epoch: 283, energy: -5.2068, std: 0.4929, std / mean: 0.0947, relerror: 0.00373, time: 0.01256\n",
      "Epoch: 284, energy: -5.1588, std: 0.5767, std / mean: 0.1118, relerror: 0.01290, time: 0.01238\n",
      "Epoch: 285, energy: -5.1798, std: 0.5261, std / mean: 0.1016, relerror: 0.00888, time: 0.01246\n",
      "Epoch: 286, energy: -5.2008, std: 0.4777, std / mean: 0.0919, relerror: 0.00487, time: 0.01238\n",
      "Epoch: 287, energy: -5.1779, std: 0.5457, std / mean: 0.1054, relerror: 0.00925, time: 0.01243\n",
      "Epoch: 288, energy: -5.1809, std: 0.5148, std / mean: 0.0994, relerror: 0.00867, time: 0.01248\n",
      "Epoch: 289, energy: -5.2149, std: 0.4297, std / mean: 0.0824, relerror: 0.00217, time: 0.01242\n",
      "Epoch: 290, energy: -5.1823, std: 0.5600, std / mean: 0.1081, relerror: 0.00840, time: 0.01235\n",
      "Epoch: 291, energy: -5.2042, std: 0.4880, std / mean: 0.0938, relerror: 0.00422, time: 0.01245\n",
      "Epoch: 292, energy: -5.1981, std: 0.5213, std / mean: 0.1003, relerror: 0.00540, time: 0.01246\n",
      "Epoch: 293, energy: -5.1824, std: 0.5681, std / mean: 0.1096, relerror: 0.00838, time: 0.01237\n",
      "Epoch: 294, energy: -5.2132, std: 0.5086, std / mean: 0.0976, relerror: 0.00249, time: 0.01237\n",
      "Epoch: 295, energy: -5.1898, std: 0.4572, std / mean: 0.0881, relerror: 0.00697, time: 0.01242\n",
      "Epoch: 296, energy: -5.1871, std: 0.5132, std / mean: 0.0989, relerror: 0.00750, time: 0.01313\n",
      "Epoch: 297, energy: -5.1996, std: 0.4439, std / mean: 0.0854, relerror: 0.00510, time: 0.01241\n",
      "Epoch: 298, energy: -5.2092, std: 0.4561, std / mean: 0.0876, relerror: 0.00326, time: 0.01239\n",
      "Epoch: 299, energy: -5.1887, std: 0.4918, std / mean: 0.0948, relerror: 0.00719, time: 0.01310\n",
      "Epoch: 300, energy: -5.1897, std: 0.5263, std / mean: 0.1014, relerror: 0.00699, time: 0.01238\n",
      "Epoch: 301, energy: -5.2010, std: 0.5065, std / mean: 0.0974, relerror: 0.00482, time: 0.01249\n",
      "Epoch: 302, energy: -5.1850, std: 0.5310, std / mean: 0.1024, relerror: 0.00788, time: 0.01244\n",
      "Epoch: 303, energy: -5.1979, std: 0.4565, std / mean: 0.0878, relerror: 0.00543, time: 0.01241\n",
      "Epoch: 304, energy: -5.1937, std: 0.4849, std / mean: 0.0934, relerror: 0.00623, time: 0.01233\n",
      "Epoch: 305, energy: -5.1844, std: 0.4634, std / mean: 0.0894, relerror: 0.00802, time: 0.01242\n",
      "Epoch: 306, energy: -5.2076, std: 0.4428, std / mean: 0.0850, relerror: 0.00358, time: 0.01239\n",
      "Epoch: 307, energy: -5.1808, std: 0.4811, std / mean: 0.0929, relerror: 0.00870, time: 0.01236\n",
      "Epoch: 308, energy: -5.1859, std: 0.5013, std / mean: 0.0967, relerror: 0.00773, time: 0.01240\n",
      "Epoch: 309, energy: -5.2058, std: 0.4902, std / mean: 0.0942, relerror: 0.00392, time: 0.01234\n",
      "Epoch: 310, energy: -5.1807, std: 0.4694, std / mean: 0.0906, relerror: 0.00871, time: 0.01242\n",
      "Epoch: 311, energy: -5.1895, std: 0.5273, std / mean: 0.1016, relerror: 0.00703, time: 0.01236\n",
      "Epoch: 312, energy: -5.1752, std: 0.5065, std / mean: 0.0979, relerror: 0.00977, time: 0.01335\n",
      "Epoch: 313, energy: -5.2038, std: 0.4948, std / mean: 0.0951, relerror: 0.00430, time: 0.01249\n",
      "Epoch: 314, energy: -5.1648, std: 0.5263, std / mean: 0.1019, relerror: 0.01177, time: 0.01242\n",
      "Epoch: 315, energy: -5.1904, std: 0.5037, std / mean: 0.0970, relerror: 0.00686, time: 0.01315\n",
      "Epoch: 316, energy: -5.1746, std: 0.4966, std / mean: 0.0960, relerror: 0.00987, time: 0.01239\n",
      "Epoch: 317, energy: -5.1782, std: 0.4896, std / mean: 0.0945, relerror: 0.00919, time: 0.01209\n",
      "Epoch: 318, energy: -5.1783, std: 0.5262, std / mean: 0.1016, relerror: 0.00918, time: 0.01189\n",
      "Epoch: 319, energy: -5.2145, std: 0.4160, std / mean: 0.0798, relerror: 0.00224, time: 0.01188\n",
      "Epoch: 320, energy: -5.1994, std: 0.4291, std / mean: 0.0825, relerror: 0.00514, time: 0.01194\n",
      "Epoch: 321, energy: -5.1873, std: 0.5336, std / mean: 0.1029, relerror: 0.00745, time: 0.01192\n",
      "Epoch: 322, energy: -5.2175, std: 0.4531, std / mean: 0.0868, relerror: 0.00168, time: 0.01194\n",
      "Epoch: 323, energy: -5.2022, std: 0.4569, std / mean: 0.0878, relerror: 0.00460, time: 0.01188\n",
      "Epoch: 324, energy: -5.1867, std: 0.4867, std / mean: 0.0938, relerror: 0.00757, time: 0.01186\n",
      "Epoch: 325, energy: -5.1858, std: 0.5409, std / mean: 0.1043, relerror: 0.00774, time: 0.01189\n",
      "Epoch: 326, energy: -5.2053, std: 0.5073, std / mean: 0.0975, relerror: 0.00400, time: 0.01201\n",
      "Epoch: 327, energy: -5.2023, std: 0.4444, std / mean: 0.0854, relerror: 0.00458, time: 0.01186\n",
      "Epoch: 328, energy: -5.1972, std: 0.4863, std / mean: 0.0936, relerror: 0.00555, time: 0.01194\n",
      "Epoch: 329, energy: -5.1787, std: 0.4985, std / mean: 0.0963, relerror: 0.00910, time: 0.01257\n",
      "Epoch: 330, energy: -5.1870, std: 0.5230, std / mean: 0.1008, relerror: 0.00752, time: 0.01207\n",
      "Epoch: 331, energy: -5.1660, std: 0.5169, std / mean: 0.1001, relerror: 0.01153, time: 0.01199\n",
      "Epoch: 332, energy: -5.1822, std: 0.5047, std / mean: 0.0974, relerror: 0.00842, time: 0.01262\n",
      "Epoch: 333, energy: -5.2194, std: 0.4449, std / mean: 0.0852, relerror: 0.00132, time: 0.01213\n",
      "Epoch: 334, energy: -5.1843, std: 0.4944, std / mean: 0.0954, relerror: 0.00802, time: 0.01195\n",
      "Epoch: 335, energy: -5.2068, std: 0.4393, std / mean: 0.0844, relerror: 0.00371, time: 0.01194\n",
      "Epoch: 336, energy: -5.2037, std: 0.4694, std / mean: 0.0902, relerror: 0.00432, time: 0.01202\n",
      "Epoch: 337, energy: -5.2076, std: 0.4618, std / mean: 0.0887, relerror: 0.00357, time: 0.01192\n",
      "Epoch: 338, energy: -5.1847, std: 0.5055, std / mean: 0.0975, relerror: 0.00795, time: 0.01209\n",
      "Epoch: 339, energy: -5.1740, std: 0.5244, std / mean: 0.1014, relerror: 0.01000, time: 0.01196\n",
      "Epoch: 340, energy: -5.1764, std: 0.5375, std / mean: 0.1038, relerror: 0.00955, time: 0.01208\n",
      "Epoch: 341, energy: -5.1821, std: 0.5054, std / mean: 0.0975, relerror: 0.00844, time: 0.01187\n",
      "Epoch: 342, energy: -5.1700, std: 0.5274, std / mean: 0.1020, relerror: 0.01076, time: 0.01196\n",
      "Epoch: 343, energy: -5.1513, std: 0.5681, std / mean: 0.1103, relerror: 0.01434, time: 0.01198\n",
      "Epoch: 344, energy: -5.2122, std: 0.4560, std / mean: 0.0875, relerror: 0.00269, time: 0.01190\n",
      "Epoch: 345, energy: -5.1741, std: 0.4817, std / mean: 0.0931, relerror: 0.00997, time: 0.01192\n",
      "Epoch: 346, energy: -5.2010, std: 0.5038, std / mean: 0.0969, relerror: 0.00484, time: 0.01274\n",
      "Epoch: 347, energy: -5.2050, std: 0.3956, std / mean: 0.0760, relerror: 0.00407, time: 0.01191\n",
      "Epoch: 348, energy: -5.1692, std: 0.5068, std / mean: 0.0980, relerror: 0.01092, time: 0.01208\n",
      "Epoch: 349, energy: -5.1842, std: 0.5134, std / mean: 0.0990, relerror: 0.00805, time: 0.01255\n",
      "Epoch: 350, energy: -5.1564, std: 0.5338, std / mean: 0.1035, relerror: 0.01337, time: 0.01196\n",
      "Epoch: 351, energy: -5.2044, std: 0.4842, std / mean: 0.0930, relerror: 0.00419, time: 0.01203\n",
      "Epoch: 352, energy: -5.1922, std: 0.4714, std / mean: 0.0908, relerror: 0.00651, time: 0.01194\n",
      "Epoch: 353, energy: -5.2034, std: 0.4571, std / mean: 0.0878, relerror: 0.00437, time: 0.01854\n",
      "Epoch: 354, energy: -5.1649, std: 0.5327, std / mean: 0.1031, relerror: 0.01174, time: 0.02669\n",
      "Epoch: 355, energy: -5.1909, std: 0.4984, std / mean: 0.0960, relerror: 0.00677, time: 0.02360\n",
      "Epoch: 356, energy: -5.1608, std: 0.5575, std / mean: 0.1080, relerror: 0.01253, time: 0.02128\n",
      "Epoch: 357, energy: -5.1703, std: 0.5581, std / mean: 0.1079, relerror: 0.01071, time: 0.01974\n",
      "Epoch: 358, energy: -5.1827, std: 0.5021, std / mean: 0.0969, relerror: 0.00834, time: 0.02035\n",
      "Epoch: 359, energy: -5.2112, std: 0.4332, std / mean: 0.0831, relerror: 0.00288, time: 0.01743\n",
      "Epoch: 360, energy: -5.1927, std: 0.4894, std / mean: 0.0943, relerror: 0.00643, time: 0.01656\n",
      "Epoch: 361, energy: -5.2075, std: 0.4625, std / mean: 0.0888, relerror: 0.00358, time: 0.01719\n",
      "Epoch: 362, energy: -5.2158, std: 0.4060, std / mean: 0.0778, relerror: 0.00200, time: 0.01520\n",
      "Epoch: 363, energy: -5.2023, std: 0.4394, std / mean: 0.0845, relerror: 0.00458, time: 0.01476\n",
      "Epoch: 364, energy: -5.2100, std: 0.4715, std / mean: 0.0905, relerror: 0.00310, time: 0.01435\n",
      "Epoch: 365, energy: -5.1762, std: 0.5344, std / mean: 0.1032, relerror: 0.00957, time: 0.01396\n",
      "Epoch: 366, energy: -5.1658, std: 0.5425, std / mean: 0.1050, relerror: 0.01157, time: 0.01358\n",
      "Epoch: 367, energy: -5.2198, std: 0.4544, std / mean: 0.0870, relerror: 0.00123, time: 0.01309\n",
      "Epoch: 368, energy: -5.1862, std: 0.5015, std / mean: 0.0967, relerror: 0.00766, time: 0.01305\n",
      "Epoch: 369, energy: -5.2076, std: 0.4522, std / mean: 0.0868, relerror: 0.00357, time: 0.01273\n",
      "Epoch: 370, energy: -5.2033, std: 0.4399, std / mean: 0.0845, relerror: 0.00439, time: 0.01236\n",
      "Epoch: 371, energy: -5.1594, std: 0.5350, std / mean: 0.1037, relerror: 0.01278, time: 0.01221\n",
      "Epoch: 372, energy: -5.2061, std: 0.4936, std / mean: 0.0948, relerror: 0.00385, time: 0.01230\n"
     ]
    },
    {
     "name": "stdout",
     "output_type": "stream",
     "text": [
      "Epoch: 373, energy: -5.1881, std: 0.4811, std / mean: 0.0927, relerror: 0.00730, time: 0.01370\n",
      "Epoch: 374, energy: -5.1713, std: 0.5461, std / mean: 0.1056, relerror: 0.01052, time: 0.01231\n",
      "Epoch: 375, energy: -5.1889, std: 0.5269, std / mean: 0.1015, relerror: 0.00715, time: 0.01370\n",
      "Epoch: 376, energy: -5.1826, std: 0.5172, std / mean: 0.0998, relerror: 0.00836, time: 0.01249\n",
      "Epoch: 377, energy: -5.1819, std: 0.5276, std / mean: 0.1018, relerror: 0.00849, time: 0.01842\n",
      "Epoch: 378, energy: -5.1970, std: 0.4680, std / mean: 0.0901, relerror: 0.00559, time: 0.02622\n",
      "Epoch: 379, energy: -5.1687, std: 0.5212, std / mean: 0.1008, relerror: 0.01102, time: 0.02655\n",
      "Epoch: 380, energy: -5.1972, std: 0.4823, std / mean: 0.0928, relerror: 0.00555, time: 0.02770\n",
      "Epoch: 381, energy: -5.2093, std: 0.4958, std / mean: 0.0952, relerror: 0.00325, time: 0.02428\n",
      "Epoch: 382, energy: -5.2039, std: 0.5078, std / mean: 0.0976, relerror: 0.00428, time: 0.02201\n",
      "Epoch: 383, energy: -5.2067, std: 0.4644, std / mean: 0.0892, relerror: 0.00374, time: 0.02083\n",
      "Epoch: 384, energy: -5.2020, std: 0.4844, std / mean: 0.0931, relerror: 0.00463, time: 0.01883\n",
      "Epoch: 385, energy: -5.2052, std: 0.4757, std / mean: 0.0914, relerror: 0.00403, time: 0.01855\n",
      "Epoch: 386, energy: -5.1767, std: 0.5302, std / mean: 0.1024, relerror: 0.00948, time: 0.01680\n",
      "Epoch: 387, energy: -5.2190, std: 0.4179, std / mean: 0.0801, relerror: 0.00138, time: 0.01607\n",
      "Epoch: 388, energy: -5.1751, std: 0.4724, std / mean: 0.0913, relerror: 0.00980, time: 0.02054\n",
      "Epoch: 389, energy: -5.1843, std: 0.4836, std / mean: 0.0933, relerror: 0.00803, time: 0.02638\n",
      "Epoch: 390, energy: -5.1969, std: 0.4661, std / mean: 0.0897, relerror: 0.00562, time: 0.02340\n",
      "Epoch: 391, energy: -5.2012, std: 0.4589, std / mean: 0.0882, relerror: 0.00480, time: 0.02405\n",
      "Epoch: 392, energy: -5.2124, std: 0.4594, std / mean: 0.0881, relerror: 0.00265, time: 0.02901\n",
      "Epoch: 393, energy: -5.1641, std: 0.5239, std / mean: 0.1015, relerror: 0.01189, time: 0.02482\n",
      "Epoch: 394, energy: -5.1983, std: 0.5004, std / mean: 0.0963, relerror: 0.00534, time: 0.02278\n",
      "Epoch: 395, energy: -5.1976, std: 0.5068, std / mean: 0.0975, relerror: 0.00548, time: 0.01800\n",
      "Epoch: 396, energy: -5.1976, std: 0.5048, std / mean: 0.0971, relerror: 0.00548, time: 0.01238\n",
      "Epoch: 397, energy: -5.1770, std: 0.5348, std / mean: 0.1033, relerror: 0.00942, time: 0.01203\n",
      "Epoch: 398, energy: -5.1976, std: 0.5116, std / mean: 0.0984, relerror: 0.00548, time: 0.01186\n",
      "Epoch: 399, energy: -5.2290, std: 0.4046, std / mean: 0.0774, relerror: 0.00052, time: 0.01188\n",
      "Epoch: 400, energy: -5.1915, std: 0.5091, std / mean: 0.0981, relerror: 0.00665, time: 0.01185\n",
      "Epoch: 401, energy: -5.1771, std: 0.5457, std / mean: 0.1054, relerror: 0.00941, time: 0.01187\n",
      "Epoch: 402, energy: -5.1941, std: 0.5016, std / mean: 0.0966, relerror: 0.00616, time: 0.01197\n",
      "Epoch: 403, energy: -5.1940, std: 0.4919, std / mean: 0.0947, relerror: 0.00617, time: 0.01899\n",
      "Epoch: 404, energy: -5.2133, std: 0.4465, std / mean: 0.0856, relerror: 0.00247, time: 0.02806\n",
      "Epoch: 405, energy: -5.2232, std: 0.4208, std / mean: 0.0806, relerror: 0.00058, time: 0.02285\n",
      "Epoch: 406, energy: -5.1986, std: 0.4726, std / mean: 0.0909, relerror: 0.00529, time: 0.01374\n",
      "Epoch: 407, energy: -5.1846, std: 0.5325, std / mean: 0.1027, relerror: 0.00797, time: 0.01715\n",
      "Epoch: 408, energy: -5.1703, std: 0.5069, std / mean: 0.0980, relerror: 0.01070, time: 0.02139\n",
      "Epoch: 409, energy: -5.1798, std: 0.4833, std / mean: 0.0933, relerror: 0.00889, time: 0.01881\n",
      "Epoch: 410, energy: -5.1927, std: 0.4682, std / mean: 0.0902, relerror: 0.00642, time: 0.01714\n",
      "Epoch: 411, energy: -5.1986, std: 0.4143, std / mean: 0.0797, relerror: 0.00528, time: 0.01648\n",
      "Epoch: 412, energy: -5.1811, std: 0.5040, std / mean: 0.0973, relerror: 0.00863, time: 0.01629\n",
      "Epoch: 413, energy: -5.2117, std: 0.4193, std / mean: 0.0804, relerror: 0.00278, time: 0.01570\n",
      "Epoch: 414, energy: -5.1944, std: 0.4752, std / mean: 0.0915, relerror: 0.00610, time: 0.01525\n",
      "Epoch: 415, energy: -5.2118, std: 0.4719, std / mean: 0.0905, relerror: 0.00277, time: 0.01486\n",
      "Epoch: 416, energy: -5.2043, std: 0.4634, std / mean: 0.0890, relerror: 0.00419, time: 0.01443\n",
      "Epoch: 417, energy: -5.1959, std: 0.4949, std / mean: 0.0953, relerror: 0.00580, time: 0.01481\n",
      "Epoch: 418, energy: -5.1858, std: 0.5378, std / mean: 0.1037, relerror: 0.00775, time: 0.01418\n",
      "Epoch: 419, energy: -5.1746, std: 0.5532, std / mean: 0.1069, relerror: 0.00988, time: 0.01419\n",
      "Epoch: 420, energy: -5.1879, std: 0.4853, std / mean: 0.0935, relerror: 0.00735, time: 0.01382\n",
      "Epoch: 421, energy: -5.1868, std: 0.4849, std / mean: 0.0935, relerror: 0.00755, time: 0.01331\n",
      "Epoch: 422, energy: -5.1755, std: 0.5334, std / mean: 0.1031, relerror: 0.00971, time: 0.01325\n",
      "Epoch: 423, energy: -5.1536, std: 0.5599, std / mean: 0.1086, relerror: 0.01391, time: 0.01332\n",
      "Epoch: 424, energy: -5.2111, std: 0.4761, std / mean: 0.0914, relerror: 0.00289, time: 0.01325\n",
      "Epoch: 425, energy: -5.1782, std: 0.4955, std / mean: 0.0957, relerror: 0.00919, time: 0.01321\n",
      "Epoch: 426, energy: -5.2087, std: 0.5113, std / mean: 0.0982, relerror: 0.00336, time: 0.01349\n",
      "Epoch: 427, energy: -5.1974, std: 0.4957, std / mean: 0.0954, relerror: 0.00552, time: 0.01303\n",
      "Epoch: 428, energy: -5.2080, std: 0.4195, std / mean: 0.0805, relerror: 0.00349, time: 0.01318\n",
      "Epoch: 429, energy: -5.1789, std: 0.4729, std / mean: 0.0913, relerror: 0.00906, time: 0.01345\n",
      "Epoch: 430, energy: -5.1990, std: 0.4157, std / mean: 0.0800, relerror: 0.00521, time: 0.01332\n",
      "Epoch: 431, energy: -5.1978, std: 0.4386, std / mean: 0.0844, relerror: 0.00544, time: 0.01335\n",
      "Epoch: 432, energy: -5.2040, std: 0.4438, std / mean: 0.0853, relerror: 0.00426, time: 0.01404\n",
      "Epoch: 433, energy: -5.2083, std: 0.4142, std / mean: 0.0795, relerror: 0.00343, time: 0.01376\n",
      "Epoch: 434, energy: -5.2102, std: 0.4272, std / mean: 0.0820, relerror: 0.00307, time: 0.01406\n",
      "Epoch: 435, energy: -5.1903, std: 0.4910, std / mean: 0.0946, relerror: 0.00688, time: 0.01372\n",
      "Epoch: 436, energy: -5.2094, std: 0.4509, std / mean: 0.0866, relerror: 0.00322, time: 0.01592\n",
      "Epoch: 437, energy: -5.2197, std: 0.4260, std / mean: 0.0816, relerror: 0.00126, time: 0.01895\n",
      "Epoch: 438, energy: -5.1843, std: 0.4846, std / mean: 0.0935, relerror: 0.00803, time: 0.01792\n",
      "Epoch: 439, energy: -5.1975, std: 0.4562, std / mean: 0.0878, relerror: 0.00551, time: 0.01539\n",
      "Epoch: 440, energy: -5.1584, std: 0.5138, std / mean: 0.0996, relerror: 0.01298, time: 0.01249\n",
      "Epoch: 441, energy: -5.2101, std: 0.4122, std / mean: 0.0791, relerror: 0.00310, time: 0.01242\n",
      "Epoch: 442, energy: -5.1811, std: 0.4448, std / mean: 0.0858, relerror: 0.00864, time: 0.01248\n",
      "Epoch: 443, energy: -5.1795, std: 0.4854, std / mean: 0.0937, relerror: 0.00895, time: 0.01257\n",
      "Epoch: 444, energy: -5.1845, std: 0.4717, std / mean: 0.0910, relerror: 0.00798, time: 0.01270\n",
      "Epoch: 445, energy: -5.2098, std: 0.4669, std / mean: 0.0896, relerror: 0.00315, time: 0.01301\n",
      "Epoch: 446, energy: -5.2149, std: 0.4254, std / mean: 0.0816, relerror: 0.00218, time: 0.01287\n",
      "Epoch: 447, energy: -5.2180, std: 0.4648, std / mean: 0.0891, relerror: 0.00158, time: 0.01406\n",
      "Epoch: 448, energy: -5.1848, std: 0.5189, std / mean: 0.1001, relerror: 0.00794, time: 0.01334\n",
      "Epoch: 449, energy: -5.1980, std: 0.4392, std / mean: 0.0845, relerror: 0.00541, time: 0.01412\n",
      "Epoch: 450, energy: -5.1877, std: 0.4676, std / mean: 0.0901, relerror: 0.00738, time: 0.01714\n",
      "Epoch: 451, energy: -5.1898, std: 0.4788, std / mean: 0.0923, relerror: 0.00698, time: 0.02833\n",
      "Epoch: 452, energy: -5.1951, std: 0.4845, std / mean: 0.0933, relerror: 0.00596, time: 0.02509\n",
      "Epoch: 453, energy: -5.1999, std: 0.4387, std / mean: 0.0844, relerror: 0.00504, time: 0.02238\n",
      "Epoch: 454, energy: -5.1830, std: 0.4821, std / mean: 0.0930, relerror: 0.00827, time: 0.02050\n",
      "Epoch: 455, energy: -5.1874, std: 0.4699, std / mean: 0.0906, relerror: 0.00744, time: 0.01911\n",
      "Epoch: 456, energy: -5.1777, std: 0.4507, std / mean: 0.0870, relerror: 0.00928, time: 0.01806\n",
      "Epoch: 457, energy: -5.1878, std: 0.4657, std / mean: 0.0898, relerror: 0.00736, time: 0.01778\n",
      "Epoch: 458, energy: -5.1936, std: 0.4637, std / mean: 0.0893, relerror: 0.00625, time: 0.01302\n",
      "Epoch: 459, energy: -5.2109, std: 0.4589, std / mean: 0.0881, relerror: 0.00295, time: 0.01251\n"
     ]
    },
    {
     "name": "stdout",
     "output_type": "stream",
     "text": [
      "Epoch: 460, energy: -5.2040, std: 0.4391, std / mean: 0.0844, relerror: 0.00426, time: 0.01343\n",
      "Epoch: 461, energy: -5.2118, std: 0.4325, std / mean: 0.0830, relerror: 0.00277, time: 0.01265\n",
      "Epoch: 462, energy: -5.2101, std: 0.4082, std / mean: 0.0783, relerror: 0.00310, time: 0.01278\n",
      "Epoch: 463, energy: -5.1743, std: 0.5039, std / mean: 0.0974, relerror: 0.00994, time: 0.01280\n",
      "Epoch: 464, energy: -5.1782, std: 0.4960, std / mean: 0.0958, relerror: 0.00919, time: 0.01287\n",
      "Epoch: 465, energy: -5.1856, std: 0.4430, std / mean: 0.0854, relerror: 0.00777, time: 0.01289\n",
      "Epoch: 466, energy: -5.1969, std: 0.4259, std / mean: 0.0819, relerror: 0.00562, time: 0.01312\n",
      "Epoch: 467, energy: -5.1991, std: 0.4049, std / mean: 0.0779, relerror: 0.00520, time: 0.01311\n",
      "Epoch: 468, energy: -5.1887, std: 0.4675, std / mean: 0.0901, relerror: 0.00718, time: 0.01289\n",
      "Epoch: 469, energy: -5.1983, std: 0.4031, std / mean: 0.0776, relerror: 0.00534, time: 0.01260\n",
      "Epoch: 470, energy: -5.1932, std: 0.4482, std / mean: 0.0863, relerror: 0.00632, time: 0.01224\n",
      "Epoch: 471, energy: -5.1833, std: 0.4773, std / mean: 0.0921, relerror: 0.00822, time: 0.01208\n",
      "Epoch: 472, energy: -5.1880, std: 0.4131, std / mean: 0.0796, relerror: 0.00731, time: 0.01198\n",
      "Epoch: 473, energy: -5.1978, std: 0.3876, std / mean: 0.0746, relerror: 0.00544, time: 0.01257\n",
      "Epoch: 474, energy: -5.1962, std: 0.4380, std / mean: 0.0843, relerror: 0.00575, time: 0.01192\n",
      "Epoch: 475, energy: -5.1943, std: 0.4362, std / mean: 0.0840, relerror: 0.00611, time: 0.01191\n",
      "Epoch: 476, energy: -5.1984, std: 0.4358, std / mean: 0.0838, relerror: 0.00532, time: 0.01271\n",
      "Epoch: 477, energy: -5.2065, std: 0.4544, std / mean: 0.0873, relerror: 0.00377, time: 0.01204\n",
      "Epoch: 478, energy: -5.2224, std: 0.4009, std / mean: 0.0768, relerror: 0.00073, time: 0.01194\n",
      "Epoch: 479, energy: -5.2131, std: 0.4287, std / mean: 0.0822, relerror: 0.00252, time: 0.01884\n",
      "Epoch: 480, energy: -5.2080, std: 0.4569, std / mean: 0.0877, relerror: 0.00349, time: 0.02823\n",
      "Epoch: 481, energy: -5.2106, std: 0.4257, std / mean: 0.0817, relerror: 0.00299, time: 0.02458\n",
      "Epoch: 482, energy: -5.2212, std: 0.3547, std / mean: 0.0679, relerror: 0.00096, time: 0.02213\n",
      "Epoch: 483, energy: -5.1917, std: 0.4530, std / mean: 0.0873, relerror: 0.00660, time: 0.02049\n",
      "Epoch: 484, energy: -5.2114, std: 0.4281, std / mean: 0.0822, relerror: 0.00285, time: 0.01936\n",
      "Epoch: 485, energy: -5.2066, std: 0.4245, std / mean: 0.0815, relerror: 0.00377, time: 0.01914\n",
      "Epoch: 486, energy: -5.2111, std: 0.3994, std / mean: 0.0767, relerror: 0.00291, time: 0.01773\n",
      "Epoch: 487, energy: -5.2393, std: 0.3650, std / mean: 0.0697, relerror: 0.00250, time: 0.01790\n",
      "Epoch: 488, energy: -5.2188, std: 0.3314, std / mean: 0.0635, relerror: 0.00144, time: 0.01929\n",
      "Epoch: 489, energy: -5.2154, std: 0.4417, std / mean: 0.0847, relerror: 0.00208, time: 0.02278\n",
      "Epoch: 490, energy: -5.2250, std: 0.3694, std / mean: 0.0707, relerror: 0.00025, time: 0.02098\n",
      "Epoch: 491, energy: -5.2115, std: 0.3959, std / mean: 0.0760, relerror: 0.00283, time: 0.01977\n",
      "Epoch: 492, energy: -5.2117, std: 0.4252, std / mean: 0.0816, relerror: 0.00279, time: 0.01918\n",
      "Epoch: 493, energy: -5.2138, std: 0.3826, std / mean: 0.0734, relerror: 0.00239, time: 0.01858\n",
      "Epoch: 494, energy: -5.2180, std: 0.3791, std / mean: 0.0726, relerror: 0.00158, time: 0.01821\n",
      "Epoch: 495, energy: -5.2113, std: 0.3908, std / mean: 0.0750, relerror: 0.00286, time: 0.01764\n",
      "Epoch: 496, energy: -5.1902, std: 0.4468, std / mean: 0.0861, relerror: 0.00689, time: 0.01779\n",
      "Epoch: 497, energy: -5.2039, std: 0.3965, std / mean: 0.0762, relerror: 0.00428, time: 0.01609\n",
      "Epoch: 498, energy: -5.1948, std: 0.4160, std / mean: 0.0801, relerror: 0.00601, time: 0.02024\n",
      "Epoch: 499, energy: -5.1956, std: 0.4254, std / mean: 0.0819, relerror: 0.00587, time: 0.02442\n",
      "===== Training finish\n"
     ]
    }
   ],
   "source": [
    "from learner import Learner\n",
    "\n",
    "learning_rate = 0.001\n",
    "trainer = tf.keras.optimizers.RMSprop(learning_rate)\n",
    "num_epochs = 500\n",
    "\n",
    "learner = Learner(ising, rbm, gibbs, trainer, num_epochs = num_epochs, \n",
    "                  stopping_threshold=0.001, reference_energy=ising.get_gs_energy())\n",
    "learner.learn()"
   ]
  },
  {
   "cell_type": "markdown",
   "metadata": {},
   "source": [
    "## Logger"
   ]
  },
  {
   "cell_type": "code",
   "execution_count": 14,
   "metadata": {},
   "outputs": [
    {
     "name": "stdout",
     "output_type": "stream",
     "text": [
      "===== Logging start\n",
      "===== Model saved in result/ising_1d_4_1.000_1.000_pbc/rbmrealpos-8/test/1/model.p\n",
      "===== Logging finish\n"
     ]
    }
   ],
   "source": [
    "from logger import Logger \n",
    "\n",
    "result_path = 'result/'\n",
    "subpath = 'test'\n",
    "logger = Logger(result_path, subpath)\n",
    "logger.log(learner)\n"
   ]
  }
 ],
 "metadata": {
  "kernelspec": {
   "display_name": "Python 3",
   "language": "python",
   "name": "python3"
  },
  "language_info": {
   "codemirror_mode": {
    "name": "ipython",
    "version": 3
   },
   "file_extension": ".py",
   "mimetype": "text/x-python",
   "name": "python",
   "nbconvert_exporter": "python",
   "pygments_lexer": "ipython3",
   "version": "3.7.5"
  },
  "toc": {
   "base_numbering": 1,
   "nav_menu": {},
   "number_sections": true,
   "sideBar": true,
   "skip_h1_title": false,
   "title_cell": "Table of Contents",
   "title_sidebar": "Contents",
   "toc_cell": false,
   "toc_position": {
    "height": "calc(100% - 180px)",
    "left": "10px",
    "top": "150px",
    "width": "295.825px"
   },
   "toc_section_display": true,
   "toc_window_display": true
  },
  "varInspector": {
   "cols": {
    "lenName": 16,
    "lenType": 16,
    "lenVar": 40
   },
   "kernels_config": {
    "python": {
     "delete_cmd_postfix": "",
     "delete_cmd_prefix": "del ",
     "library": "var_list.py",
     "varRefreshCmd": "print(var_dic_list())"
    },
    "r": {
     "delete_cmd_postfix": ") ",
     "delete_cmd_prefix": "rm(",
     "library": "var_list.r",
     "varRefreshCmd": "cat(var_dic_list()) "
    }
   },
   "types_to_exclude": [
    "module",
    "function",
    "builtin_function_or_method",
    "instance",
    "_Feature"
   ],
   "window_display": false
  }
 },
 "nbformat": 4,
 "nbformat_minor": 4
}
